{
 "cells": [
  {
   "cell_type": "markdown",
   "id": "c93cb61a",
   "metadata": {},
   "source": [
    "# Showcase"
   ]
  },
  {
   "cell_type": "markdown",
   "id": "8a6accdd",
   "metadata": {},
   "source": [
    "## Imports"
   ]
  },
  {
   "cell_type": "code",
   "execution_count": 13,
   "id": "e2bff68e",
   "metadata": {},
   "outputs": [],
   "source": [
    "from pathlib import Path\n",
    "\n",
    "import torch\n",
    "from torch.utils.data import DataLoader\n",
    "\n",
    "from datasets import InventoryDataset, ItemDataset\n",
    "from network import ItemClassifier\n",
    "from neurasp.neurasp import NeurASP\n",
    "from utils import (\n",
    "    generate_asp_program,\n",
    "    generate_neural_atoms,\n",
    "    get_run_number,\n",
    "    load_config,\n",
    "    neurasp_test,\n",
    "    neurasp_train_epochs,\n",
    ")"
   ]
  },
  {
   "cell_type": "markdown",
   "id": "01ca6597",
   "metadata": {},
   "source": [
    "## Hyperparameters and Configuration"
   ]
  },
  {
   "cell_type": "code",
   "execution_count": 14,
   "id": "c2a8b005",
   "metadata": {},
   "outputs": [],
   "source": [
    "NUM_EPOCHS: int = 10\n",
    "LR: float = 0.0001"
   ]
  },
  {
   "cell_type": "code",
   "execution_count": 15,
   "id": "9a969e63",
   "metadata": {},
   "outputs": [],
   "source": [
    "CONFIG_PATH = Path.cwd() / \"strips.yml\"\n",
    "TRAIN_PATH = Path.cwd() / \"dataset\" / \"train\"\n",
    "VALID_PATH = Path.cwd() / \"dataset\" / \"valid\"\n",
    "TEST_PATH = Path.cwd() / \"dataset\" / \"test\"\n",
    "STORAGE_DIR = Path.cwd() / \"results\" / \"neurasp\"\n",
    "\n",
    "STORAGE_DIR.mkdir(exist_ok=True, parents=True)\n",
    "storage_dir = STORAGE_DIR / f\"train-{get_run_number(STORAGE_DIR)}\""
   ]
  },
  {
   "cell_type": "code",
   "execution_count": 16,
   "id": "1daa6c52",
   "metadata": {},
   "outputs": [
    {
     "data": {
      "text/plain": [
       "StripsConfig(items=[Item(id=1, path=PosixPath('sprites/15-14.png'), name='coffee'), Item(id=2, path=PosixPath('sprites/15-11.png'), name='coffee_powder'), Item(id=3, path=PosixPath('sprites/19-5.png'), name='water'), Item(id=4, path=PosixPath('sprites/15-8.png'), name='milk'), Item(id=5, path=PosixPath('sprites/15-10.png'), name='flour'), Item(id=6, path=PosixPath('sprites/14-13.png'), name='bread'), Item(id=7, path=PosixPath('sprites/12-6.png'), name='coffee_beans')], actions=[Action(name='make_coffee', preconditions=['coffee_powder', 'water'], add_list=['coffee'], delete_list=['coffee_powder', 'water']), Action(name='bake_bread', preconditions=['water', 'flour'], add_list=['bread'], delete_list=['water', 'flour']), Action(name='wait', preconditions=[], add_list=[], delete_list=[])], time_steps=1, inventory_size=3)"
      ]
     },
     "execution_count": 16,
     "metadata": {},
     "output_type": "execute_result"
    }
   ],
   "source": [
    "config = load_config(CONFIG_PATH)\n",
    "\n",
    "config"
   ]
  },
  {
   "cell_type": "markdown",
   "id": "2732fee2",
   "metadata": {},
   "source": [
    "## ASP Program"
   ]
  },
  {
   "cell_type": "code",
   "execution_count": 17,
   "id": "d867b91f",
   "metadata": {},
   "outputs": [
    {
     "name": "stdout",
     "output_type": "stream",
     "text": [
      "time(1..1).\n",
      "have(X,0) :- init(X).\n",
      "{ occur(A,T) : action(A) } = 1 :- time(T).\n",
      ":- occur(A,T), pre(A,I), not have(I,T-1).\n",
      "have(I,T) :- time(T), have(I,T-1), not occur(A,T) : del(A,I).\n",
      "have(I,T) :- occur(A,T), add(A,I).\n",
      "init_img(init_img_0).\n",
      "final_img(final_img_0).\n",
      "init_img(init_img_1).\n",
      "final_img(final_img_1).\n",
      "init_img(init_img_2).\n",
      "final_img(final_img_2).\n",
      "init(X) :- identify(0,I,X), init_img(I).\n",
      "final(X) :- identify(0,I,X), final_img(I).\n",
      ":- final(X), not have(X,1).\n",
      ":- have(X,1), not final(X).\n",
      "item(0).\n",
      "item(1).\n",
      "item(2).\n",
      "item(3).\n",
      "item(4).\n",
      "item(5).\n",
      "item(6).\n",
      "item(7).\n",
      "action(make_coffee).\n",
      "pre(make_coffee,2).\n",
      "pre(make_coffee,3).\n",
      "add(make_coffee,1).\n",
      "del(make_coffee,2).\n",
      "del(make_coffee,3).\n",
      "action(bake_bread).\n",
      "pre(bake_bread,3).\n",
      "pre(bake_bread,5).\n",
      "add(bake_bread,6).\n",
      "del(bake_bread,3).\n",
      "del(bake_bread,5).\n",
      "action(wait).\n"
     ]
    }
   ],
   "source": [
    "asp_program = generate_asp_program(\n",
    "    actions=config.actions,\n",
    "    items=config.items,\n",
    "    time_steps=config.time_steps,\n",
    "    inventory_size=config.inventory_size,\n",
    ")\n",
    "\n",
    "print(asp_program)"
   ]
  },
  {
   "cell_type": "code",
   "execution_count": 18,
   "id": "aece9883",
   "metadata": {},
   "outputs": [
    {
     "name": "stdout",
     "output_type": "stream",
     "text": [
      "nn(identify(1,I), [0,1,2,3,4,5,6,7]) :- init_img(I).\n",
      "nn(identify(1,I), [0,1,2,3,4,5,6,7]) :- final_img(I).\n"
     ]
    }
   ],
   "source": [
    "neural_atoms = generate_neural_atoms(config.items)\n",
    "\n",
    "print(neural_atoms)"
   ]
  },
  {
   "cell_type": "markdown",
   "id": "8d1cf993",
   "metadata": {},
   "source": [
    "## Dataset"
   ]
  },
  {
   "cell_type": "code",
   "execution_count": 19,
   "id": "6eb2d973",
   "metadata": {},
   "outputs": [
    {
     "name": "stdout",
     "output_type": "stream",
     "text": [
      "train samples: 500\n",
      "valid samples: 100\n",
      "test samples: 100\n"
     ]
    }
   ],
   "source": [
    "train_ds = InventoryDataset(TRAIN_PATH)\n",
    "valid_ds = InventoryDataset(VALID_PATH)\n",
    "test_ds = InventoryDataset(TEST_PATH)\n",
    "\n",
    "item_test_ds = ItemDataset(TEST_PATH)\n",
    "item_test_dl = DataLoader(item_test_ds, batch_size=4, shuffle=True)\n",
    "\n",
    "print(f\"train samples: {len(train_ds)}\")\n",
    "print(f\"valid samples: {len(valid_ds)}\")\n",
    "print(f\"test samples: {len(test_ds)}\")"
   ]
  },
  {
   "cell_type": "markdown",
   "id": "a696e1dd",
   "metadata": {},
   "source": [
    "## Model"
   ]
  },
  {
   "cell_type": "code",
   "execution_count": 20,
   "id": "e00d7bcd",
   "metadata": {},
   "outputs": [
    {
     "data": {
      "text/plain": [
       "ItemClassifier(\n",
       "  (cnn): Sequential(\n",
       "    (0): Conv2d(3, 16, kernel_size=(3, 3), stride=(1, 1))\n",
       "    (1): ReLU()\n",
       "    (2): Conv2d(16, 32, kernel_size=(3, 3), stride=(1, 1))\n",
       "    (3): ReLU()\n",
       "    (4): MaxPool2d(kernel_size=2, stride=2, padding=0, dilation=1, ceil_mode=False)\n",
       "  )\n",
       "  (fc): Sequential(\n",
       "    (0): Linear(in_features=6272, out_features=8, bias=True)\n",
       "    (1): Softmax(dim=1)\n",
       "  )\n",
       ")"
      ]
     },
     "execution_count": 20,
     "metadata": {},
     "output_type": "execute_result"
    }
   ],
   "source": [
    "network = ItemClassifier(\n",
    "    num_classes=len(config.items) + 1,  # all items including blank\n",
    ")\n",
    "nn_mapping = {\"identify\": network}\n",
    "optimizers = {\"identify\": torch.optim.Adam(network.parameters(), lr=LR)}\n",
    "\n",
    "network"
   ]
  },
  {
   "cell_type": "code",
   "execution_count": 21,
   "id": "a9707030",
   "metadata": {},
   "outputs": [],
   "source": [
    "model = NeurASP(\n",
    "    dprogram=neural_atoms + \"\\n\" + asp_program,\n",
    "    nnMapping=nn_mapping,\n",
    "    optimizers=optimizers,\n",
    ")"
   ]
  },
  {
   "cell_type": "markdown",
   "id": "217bd0ce",
   "metadata": {},
   "source": [
    "## Training"
   ]
  },
  {
   "cell_type": "code",
   "execution_count": 22,
   "id": "48d53ed2",
   "metadata": {},
   "outputs": [
    {
     "name": "stdout",
     "output_type": "stream",
     "text": [
      "validation accuracy before training: 0.00 %\n",
      "epoch 1/10:\n"
     ]
    },
    {
     "name": "stderr",
     "output_type": "stream",
     "text": [
      "100%|██████████| 500/500 [00:15<00:00, 32.54it/s]\n"
     ]
    },
    {
     "name": "stdout",
     "output_type": "stream",
     "text": [
      "\ttraining accuracy: 63.20 %\n",
      "\tvalidation accuracy: 58.00 %\n",
      "epoch 2/10:\n"
     ]
    },
    {
     "name": "stderr",
     "output_type": "stream",
     "text": [
      "100%|██████████| 500/500 [00:12<00:00, 39.48it/s]\n"
     ]
    },
    {
     "name": "stdout",
     "output_type": "stream",
     "text": [
      "\ttraining accuracy: 77.40 %\n",
      "\tvalidation accuracy: 68.00 %\n",
      "epoch 3/10:\n"
     ]
    },
    {
     "name": "stderr",
     "output_type": "stream",
     "text": [
      "100%|██████████| 500/500 [00:13<00:00, 37.84it/s]\n"
     ]
    },
    {
     "name": "stdout",
     "output_type": "stream",
     "text": [
      "\ttraining accuracy: 76.80 %\n",
      "\tvalidation accuracy: 71.00 %\n",
      "epoch 4/10:\n"
     ]
    },
    {
     "name": "stderr",
     "output_type": "stream",
     "text": [
      "100%|██████████| 500/500 [00:12<00:00, 39.32it/s]\n"
     ]
    },
    {
     "name": "stdout",
     "output_type": "stream",
     "text": [
      "\ttraining accuracy: 85.40 %\n",
      "\tvalidation accuracy: 84.00 %\n",
      "epoch 5/10:\n"
     ]
    },
    {
     "name": "stderr",
     "output_type": "stream",
     "text": [
      "100%|██████████| 500/500 [00:13<00:00, 37.81it/s]\n"
     ]
    },
    {
     "name": "stdout",
     "output_type": "stream",
     "text": [
      "\ttraining accuracy: 88.00 %\n",
      "\tvalidation accuracy: 87.00 %\n",
      "epoch 6/10:\n"
     ]
    },
    {
     "name": "stderr",
     "output_type": "stream",
     "text": [
      "100%|██████████| 500/500 [00:12<00:00, 39.44it/s]\n"
     ]
    },
    {
     "name": "stdout",
     "output_type": "stream",
     "text": [
      "\ttraining accuracy: 89.60 %\n",
      "\tvalidation accuracy: 85.00 %\n",
      "epoch 7/10:\n"
     ]
    },
    {
     "name": "stderr",
     "output_type": "stream",
     "text": [
      "100%|██████████| 500/500 [00:12<00:00, 41.00it/s]\n"
     ]
    },
    {
     "name": "stdout",
     "output_type": "stream",
     "text": [
      "\ttraining accuracy: 92.40 %\n",
      "\tvalidation accuracy: 92.00 %\n",
      "epoch 8/10:\n"
     ]
    },
    {
     "name": "stderr",
     "output_type": "stream",
     "text": [
      "100%|██████████| 500/500 [00:13<00:00, 38.22it/s]\n"
     ]
    },
    {
     "name": "stdout",
     "output_type": "stream",
     "text": [
      "\ttraining accuracy: 92.60 %\n",
      "\tvalidation accuracy: 94.00 %\n",
      "epoch 9/10:\n"
     ]
    },
    {
     "name": "stderr",
     "output_type": "stream",
     "text": [
      "100%|██████████| 500/500 [00:13<00:00, 35.98it/s]\n"
     ]
    },
    {
     "name": "stdout",
     "output_type": "stream",
     "text": [
      "\ttraining accuracy: 92.60 %\n",
      "\tvalidation accuracy: 93.00 %\n",
      "epoch 10/10:\n"
     ]
    },
    {
     "name": "stderr",
     "output_type": "stream",
     "text": [
      "100%|██████████| 500/500 [00:13<00:00, 38.28it/s]\n"
     ]
    },
    {
     "name": "stdout",
     "output_type": "stream",
     "text": [
      "\ttraining accuracy: 92.00 %\n",
      "\tvalidation accuracy: 87.00 %\n"
     ]
    }
   ],
   "source": [
    "neurasp_train_epochs(\n",
    "    model=model,\n",
    "    train_ds=train_ds,\n",
    "    valid_ds=valid_ds,\n",
    "    num_epochs=NUM_EPOCHS,\n",
    "    storage_dir=storage_dir,\n",
    ")"
   ]
  },
  {
   "cell_type": "markdown",
   "id": "787b8aba",
   "metadata": {},
   "source": [
    "## Testing"
   ]
  },
  {
   "cell_type": "code",
   "execution_count": 23,
   "id": "5f8a07de",
   "metadata": {},
   "outputs": [
    {
     "name": "stdout",
     "output_type": "stream",
     "text": [
      "NeurASP test accuracy: 89.00 %\n"
     ]
    }
   ],
   "source": [
    "neurasp_acc = neurasp_test(\n",
    "    model=model,\n",
    "    ds=test_ds,\n",
    ")\n",
    "\n",
    "print(f\"NeurASP test accuracy: {neurasp_acc:.2f} %\")"
   ]
  },
  {
   "cell_type": "code",
   "execution_count": 24,
   "id": "ed4478b3",
   "metadata": {},
   "outputs": [
    {
     "name": "stdout",
     "output_type": "stream",
     "text": [
      "CNN test accuracy: 89.00 %\n"
     ]
    }
   ],
   "source": [
    "nn_acc, _ = model.testNN(\"identify\", item_test_dl)\n",
    "\n",
    "print(f\"CNN test accuracy: {neurasp_acc:.2f} %\")"
   ]
  }
 ],
 "metadata": {
  "kernelspec": {
   "display_name": ".venv",
   "language": "python",
   "name": "python3"
  },
  "language_info": {
   "codemirror_mode": {
    "name": "ipython",
    "version": 3
   },
   "file_extension": ".py",
   "mimetype": "text/x-python",
   "name": "python",
   "nbconvert_exporter": "python",
   "pygments_lexer": "ipython3",
   "version": "3.13.2"
  }
 },
 "nbformat": 4,
 "nbformat_minor": 5
}
